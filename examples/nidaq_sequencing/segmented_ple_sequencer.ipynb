{
 "cells": [
  {
   "cell_type": "code",
   "execution_count": 10,
   "id": "097a3099",
   "metadata": {},
   "outputs": [],
   "source": [
    "import numpy as np\n",
    "import matplotlib.pyplot as plt\n",
    "\n",
    "from qdlutils.hardware.nidaq.synchronous.nidaqsequencer import NidaqSequencer\n",
    "from qdlutils.hardware.nidaq.synchronous.nidaqsequencerinputgroup import *\n",
    "from qdlutils.hardware.nidaq.synchronous.nidaqsequenceroutputgroup import *\n",
    "\n",
    "from qdlutils.applications.qdlple2.application_controller import PLEControllerPulsedRepumpSegmented"
   ]
  },
  {
   "cell_type": "markdown",
   "id": "3afb8e0c",
   "metadata": {},
   "source": [
    "Define the inputs and outputs."
   ]
  },
  {
   "cell_type": "code",
   "execution_count": 11,
   "id": "a53f0db9",
   "metadata": {},
   "outputs": [],
   "source": [
    "scan_inputs = {\n",
    "    # Create a group of analog voltage inputs\n",
    "    'ai_voltage_group' : NidaqSequencerAIVoltageGroup(\n",
    "        device_channels_dict = {\n",
    "            'photodiode': ('Dev1', 'ai1'),\n",
    "        }\n",
    "    ),\n",
    "    # Create a group for a counter\n",
    "    'ci_edge_group' : NidaqSequencerCIEdgeGroup(\n",
    "        device_channels_dict  = {'counter' : ('Dev1', 'ctr2')},\n",
    "        device_terminals_dict = {'counter' : 'PFI0'}\n",
    "    )\n",
    "}\n",
    "\n",
    "scan_outputs = {\n",
    "    'ao_voltage_group' : NidaqSequencerAOVoltageGroup(\n",
    "        device_channels_dict={\n",
    "            'scan_laser' : ('Dev1', 'ao0'),\n",
    "        },\n",
    "        device_limits_dict={\n",
    "            'scan_laser' : (-3,5),\n",
    "        }\n",
    "    ),\n",
    "}\n",
    "\n",
    "repump_inputs = {} # No input sources for the repump\n",
    "# For testing add detection during the repump step\n",
    "repump_inputs = {\n",
    "    'ai_voltage_group' : NidaqSequencerAIVoltageGroup(\n",
    "        device_channels_dict = {\n",
    "            'repump_read': ('Dev1', 'ai2'),\n",
    "        }\n",
    "    )\n",
    "}\n",
    "\n",
    "repump_outputs = {\n",
    "    'ao_voltage_group' : NidaqSequencerAOVoltageGroup(\n",
    "        device_channels_dict={\n",
    "            'repump_laser' : ('Dev1', 'ao1'),\n",
    "        },\n",
    "        device_limits_dict={\n",
    "            'repump_laser' : (-5,5),\n",
    "        }\n",
    "    ),\n",
    "}\n",
    "\n",
    "process_instructions = {} # Just take the first sample point for all"
   ]
  },
  {
   "cell_type": "markdown",
   "id": "e91020c7",
   "metadata": {},
   "source": [
    "Create the controller"
   ]
  },
  {
   "cell_type": "code",
   "execution_count": 12,
   "id": "a744cd7d",
   "metadata": {},
   "outputs": [],
   "source": [
    "controller = PLEControllerPulsedRepumpSegmented(\n",
    "        scan_inputs = scan_inputs,\n",
    "        scan_outputs = scan_outputs,\n",
    "        repump_inputs = repump_inputs,\n",
    "        repump_outputs = repump_outputs,\n",
    "        scan_laser_id = 'scan_laser',\n",
    "        repump_laser_id = 'repump_laser',\n",
    "        counter_id = 'counter',\n",
    "        repump_laser_setpoints = {'on': 1, 'off':0},\n",
    "        scan_clock_device = 'Dev1',\n",
    "        scan_clock_channel = 'port0',\n",
    "        scan_clock_terminal = 'PFI12',\n",
    "        repump_clock_device = 'Dev1',\n",
    "        repump_clock_channel = 'port0',\n",
    "        repump_clock_terminal = 'PFI12',\n",
    "        process_instructions = process_instructions\n",
    ")"
   ]
  },
  {
   "cell_type": "code",
   "execution_count": 13,
   "id": "73c44133",
   "metadata": {},
   "outputs": [],
   "source": [
    "controller.configure_sequence(\n",
    "        min = -3,\n",
    "        max = 5,\n",
    "        n_pixels_up = 200,\n",
    "        n_pixels_down = 10,\n",
    "        n_subpixels = 8,\n",
    "        time_up = 1,\n",
    "        time_down = 1,\n",
    "        time_repump = 1,\n",
    ")"
   ]
  },
  {
   "cell_type": "code",
   "execution_count": 14,
   "id": "dda79fae",
   "metadata": {},
   "outputs": [
    {
     "name": "stderr",
     "output_type": "stream",
     "text": [
      "INFO:qdlutils.applications.qdlple2.application_controller:Starting repump...\n",
      "INFO:qdlutils.applications.qdlple2.application_controller:Starting upscan...\n",
      "INFO:qdlutils.applications.qdlple2.application_controller:Starting downscan...\n"
     ]
    }
   ],
   "source": [
    "data = controller._run_sequence(\n",
    "    process_method=controller.process_data, \n",
    "    process_kwargs={'instructions': process_instructions})"
   ]
  },
  {
   "cell_type": "code",
   "execution_count": 15,
   "id": "9b19937b",
   "metadata": {},
   "outputs": [
    {
     "name": "stdout",
     "output_type": "stream",
     "text": [
      "upscan_photodiode\n",
      "downscan_photodiode\n",
      "photodiode\n",
      "upscan_counter\n",
      "downscan_counter\n",
      "counter\n",
      "upscan_scan_laser\n",
      "downscan_scan_laser\n",
      "scan_laser\n",
      "repump_repump_read\n",
      "repump_repump_laser\n",
      "upscan_subpixel_photodiode\n",
      "upscan_subpixel_counter\n",
      "upscan_subpixel_scan_laser\n",
      "downscan_subpixel_photodiode\n",
      "downscan_subpixel_counter\n",
      "downscan_subpixel_scan_laser\n"
     ]
    }
   ],
   "source": [
    "for key in data:\n",
    "    print(key)"
   ]
  },
  {
   "cell_type": "code",
   "execution_count": 16,
   "id": "31331d50",
   "metadata": {},
   "outputs": [
    {
     "data": {
      "text/plain": [
       "[<matplotlib.lines.Line2D at 0x1d78be06f70>]"
      ]
     },
     "execution_count": 16,
     "metadata": {},
     "output_type": "execute_result"
    },
    {
     "data": {
      "image/png": "[encoded data removed]",
      "text/plain": [
       "<Figure size 640x480 with 1 Axes>"
      ]
     },
     "metadata": {},
     "output_type": "display_data"
    }
   ],
   "source": [
    "plt.plot(data['repump_repump_laser'])\n",
    "plt.plot(data['repump_repump_read'], 'o')"
   ]
  },
  {
   "cell_type": "code",
   "execution_count": 17,
   "id": "de349c7f",
   "metadata": {},
   "outputs": [
    {
     "data": {
      "text/plain": [
       "[<matplotlib.lines.Line2D at 0x1d78bea6af0>]"
      ]
     },
     "execution_count": 17,
     "metadata": {},
     "output_type": "execute_result"
    },
    {
     "data": {
      "image/png": "[encoded data removed]",
      "text/plain": [
       "<Figure size 640x480 with 1 Axes>"
      ]
     },
     "metadata": {},
     "output_type": "display_data"
    }
   ],
   "source": [
    "plt.plot(data['scan_laser'])\n",
    "plt.plot(data['photodiode'], 'o')"
   ]
  },
  {
   "cell_type": "code",
   "execution_count": null,
   "id": "a638bcd7",
   "metadata": {},
   "outputs": [],
   "source": []
  }
 ],
 "metadata": {
  "kernelspec": {
   "display_name": "qdldiamond",
   "language": "python",
   "name": "python3"
  },
  "language_info": {
   "codemirror_mode": {
    "name": "ipython",
    "version": 3
   },
   "file_extension": ".py",
   "mimetype": "text/x-python",
   "name": "python",
   "nbconvert_exporter": "python",
   "pygments_lexer": "ipython3",
   "version": "3.9.21"
  }
 },
 "nbformat": 4,
 "nbformat_minor": 5
}
