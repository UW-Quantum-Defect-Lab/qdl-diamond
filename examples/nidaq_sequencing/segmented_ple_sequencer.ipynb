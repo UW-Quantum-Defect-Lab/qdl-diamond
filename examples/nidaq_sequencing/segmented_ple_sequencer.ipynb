{
 "cells": [
  {
   "cell_type": "code",
   "execution_count": 1,
   "id": "097a3099",
   "metadata": {},
   "outputs": [],
   "source": [
    "import numpy as np\n",
    "import matplotlib.pyplot as plt\n",
    "\n",
    "from qdlutils.hardware.nidaq.synchronous.nidaqsequencer import NidaqSequencer\n",
    "from qdlutils.hardware.nidaq.synchronous.nidaqsequencerinput import *\n",
    "from qdlutils.hardware.nidaq.synchronous.nidaqsequenceroutput import *\n",
    "\n",
    "from qdlutils.applications.qdlple2.application_controller import PLEControllerPulsedRepumpSegmented"
   ]
  },
  {
   "cell_type": "markdown",
   "id": "3afb8e0c",
   "metadata": {},
   "source": [
    "Define the inputs and outputs."
   ]
  },
  {
   "cell_type": "code",
   "execution_count": 2,
   "id": "f8a46635",
   "metadata": {},
   "outputs": [],
   "source": [
    "inputs = {\n",
    "    'photodiode' : NidaqSequencerAIVoltage(\n",
    "            name = 'photodiode',\n",
    "            device = 'Dev1',\n",
    "            channel = 'ai1',\n",
    "    ),\n",
    "    'counter' : NidaqSequencerCIEdge(\n",
    "            name = 'counter',\n",
    "            device = 'Dev1',\n",
    "            channel = 'ctr2',\n",
    "            terminal = 'PFI0',\n",
    "    )\n",
    "}\n",
    "\n",
    "outputs = {\n",
    "    'scan_laser' : NidaqSequencerAOVoltage(\n",
    "            name = 'scan_laser',\n",
    "            device = 'Dev1',\n",
    "            channel = 'ao3',\n",
    "            min_voltage = -3,\n",
    "            max_voltage = 5\n",
    "    ),\n",
    "    'repump_laser' : NidaqSequencerAOVoltage(\n",
    "            name = 'repump_laser',\n",
    "            device = 'Dev2',\n",
    "            channel = 'ao0',\n",
    "            min_voltage = -5,\n",
    "            max_voltage = 5\n",
    "    )\n",
    "}\n",
    "\n",
    "process_instructions = {} # Just take the first sample point for all"
   ]
  },
  {
   "cell_type": "markdown",
   "id": "e91020c7",
   "metadata": {},
   "source": [
    "Create the controller"
   ]
  },
  {
   "cell_type": "code",
   "execution_count": 3,
   "id": "3e05b82b",
   "metadata": {},
   "outputs": [],
   "source": [
    "controller = PLEControllerPulsedRepumpSegmented(\n",
    "        inputs = inputs,\n",
    "        outputs = outputs,\n",
    "        scan_laser_id = 'scan_laser',\n",
    "        repump_laser_id = 'repump_laser',\n",
    "        counter_id = 'counter',\n",
    "        clock_device = 'Dev1',\n",
    "        clock_channel = 'port0',\n",
    "        process_instructions = process_instructions\n",
    ")"
   ]
  },
  {
   "cell_type": "code",
   "execution_count": 4,
   "id": "73c44133",
   "metadata": {},
   "outputs": [],
   "source": [
    "controller.configure_sequence(\n",
    "        min = -3,\n",
    "        max = 5,\n",
    "        n_pixels_up = 200,\n",
    "        n_pixels_down = 10,\n",
    "        n_subpixels = 1,\n",
    "        time_up = 10,\n",
    "        time_down = 2,\n",
    "        time_repump = 0,\n",
    ")"
   ]
  },
  {
   "cell_type": "code",
   "execution_count": 5,
   "id": "dda79fae",
   "metadata": {},
   "outputs": [
    {
     "name": "stdout",
     "output_type": "stream",
     "text": [
      "starting upscan\n",
      "waiting for  photodiode\n",
      "waiting for  counter\n",
      "waiting for  scan_laser\n",
      "waiting for  repump_laser\n"
     ]
    },
    {
     "ename": "DaqError",
     "evalue": "Wait Until Done did not indicate that the task was done within the specified timeout.\nIncrease the timeout, check the program, and make sure connections for external timing and triggering are in place.\nTask Name: _unnamedTask<6>\n\nStatus Code: -200560",
     "output_type": "error",
     "traceback": [
      "\u001b[1;31m---------------------------------------------------------------------------\u001b[0m",
      "\u001b[1;31mDaqError\u001b[0m                                  Traceback (most recent call last)",
      "Cell \u001b[1;32mIn[5], line 1\u001b[0m\n\u001b[1;32m----> 1\u001b[0m data \u001b[38;5;241m=\u001b[39m \u001b[43mcontroller\u001b[49m\u001b[38;5;241;43m.\u001b[39;49m\u001b[43m_run_sequence\u001b[49m\u001b[43m(\u001b[49m\n\u001b[0;32m      2\u001b[0m \u001b[43m    \u001b[49m\u001b[43mprocess_method\u001b[49m\u001b[38;5;241;43m=\u001b[39;49m\u001b[43mcontroller\u001b[49m\u001b[38;5;241;43m.\u001b[39;49m\u001b[43mprocess_data\u001b[49m\u001b[43m,\u001b[49m\u001b[43m \u001b[49m\n\u001b[0;32m      3\u001b[0m \u001b[43m    \u001b[49m\u001b[43mprocess_kwargs\u001b[49m\u001b[38;5;241;43m=\u001b[39;49m\u001b[43m{\u001b[49m\u001b[38;5;124;43m'\u001b[39;49m\u001b[38;5;124;43minstructions\u001b[39;49m\u001b[38;5;124;43m'\u001b[39;49m\u001b[43m:\u001b[49m\u001b[43m \u001b[49m\u001b[43mprocess_instructions\u001b[49m\u001b[43m}\u001b[49m\u001b[43m)\u001b[49m\n",
      "File \u001b[1;32m~\\Documents\\qdl-diamond\\qdl-diamond\\src\\qdlutils\\applications\\qdlple2\\application_controller.py:549\u001b[0m, in \u001b[0;36mPLEControllerPulsedRepumpSegmented._run_sequence\u001b[1;34m(self, process_method, process_kwargs)\u001b[0m\n\u001b[0;32m    547\u001b[0m \u001b[38;5;28;01mif\u001b[39;00m \u001b[38;5;28mself\u001b[39m\u001b[38;5;241m.\u001b[39mtime_up \u001b[38;5;241m>\u001b[39m \u001b[38;5;241m0\u001b[39m:\n\u001b[0;32m    548\u001b[0m     \u001b[38;5;28mprint\u001b[39m(\u001b[38;5;124m'\u001b[39m\u001b[38;5;124mstarting upscan\u001b[39m\u001b[38;5;124m'\u001b[39m)\n\u001b[1;32m--> 549\u001b[0m     \u001b[38;5;28;43mself\u001b[39;49m\u001b[38;5;241;43m.\u001b[39;49m\u001b[43mupscan_sequencer\u001b[49m\u001b[38;5;241;43m.\u001b[39;49m\u001b[43mrun_sequence\u001b[49m\u001b[43m(\u001b[49m\n\u001b[0;32m    550\u001b[0m \u001b[43m        \u001b[49m\u001b[43mclock_rate\u001b[49m\u001b[38;5;241;43m=\u001b[39;49m\u001b[38;5;28;43mself\u001b[39;49m\u001b[38;5;241;43m.\u001b[39;49m\u001b[43msample_rate_upscan\u001b[49m\u001b[43m,\u001b[49m\n\u001b[0;32m    551\u001b[0m \u001b[43m        \u001b[49m\u001b[43moutput_data\u001b[49m\u001b[38;5;241;43m=\u001b[39;49m\u001b[38;5;28;43mself\u001b[39;49m\u001b[38;5;241;43m.\u001b[39;49m\u001b[43moutput_data_upscan\u001b[49m\u001b[43m,\u001b[49m\n\u001b[0;32m    552\u001b[0m \u001b[43m        \u001b[49m\u001b[43minput_samples\u001b[49m\u001b[38;5;241;43m=\u001b[39;49m\u001b[38;5;28;43mself\u001b[39;49m\u001b[38;5;241;43m.\u001b[39;49m\u001b[43minput_samples_upscan\u001b[49m\u001b[43m,\u001b[49m\n\u001b[0;32m    553\u001b[0m \u001b[43m        \u001b[49m\u001b[43mreadout_delays\u001b[49m\u001b[38;5;241;43m=\u001b[39;49m\u001b[38;5;28;43mself\u001b[39;49m\u001b[38;5;241;43m.\u001b[39;49m\u001b[43mreadout_delays\u001b[49m\u001b[43m,\u001b[49m\n\u001b[0;32m    554\u001b[0m \u001b[43m        \u001b[49m\u001b[43msoft_start\u001b[49m\u001b[38;5;241;43m=\u001b[39;49m\u001b[38;5;28;43mself\u001b[39;49m\u001b[38;5;241;43m.\u001b[39;49m\u001b[43msoft_start\u001b[49m\u001b[43m,\u001b[49m\n\u001b[0;32m    555\u001b[0m \u001b[43m        \u001b[49m\u001b[43mtimeout\u001b[49m\u001b[38;5;241;43m=\u001b[39;49m\u001b[38;5;28;43mself\u001b[39;49m\u001b[38;5;241;43m.\u001b[39;49m\u001b[43mtimeout_upscan\u001b[49m\n\u001b[0;32m    556\u001b[0m \u001b[43m    \u001b[49m\u001b[43m)\u001b[49m\n\u001b[0;32m    557\u001b[0m \u001b[38;5;66;03m# Run the repump sequence\u001b[39;00m\n\u001b[0;32m    558\u001b[0m \u001b[38;5;28;01mif\u001b[39;00m \u001b[38;5;28mself\u001b[39m\u001b[38;5;241m.\u001b[39mtime_down \u001b[38;5;241m>\u001b[39m \u001b[38;5;241m0\u001b[39m:\n",
      "File \u001b[1;32m~\\Documents\\qdl-diamond\\qdl-diamond\\src\\qdlutils\\hardware\\nidaq\\synchronous\\nidaqsequencer.py:216\u001b[0m, in \u001b[0;36mNidaqSequencer.run_sequence\u001b[1;34m(self, clock_rate, output_data, input_samples, readout_delays, soft_start, timeout)\u001b[0m\n\u001b[0;32m    214\u001b[0m \u001b[38;5;28;01mfor\u001b[39;00m name \u001b[38;5;129;01min\u001b[39;00m \u001b[38;5;28mself\u001b[39m\u001b[38;5;241m.\u001b[39moutputs:\n\u001b[0;32m    215\u001b[0m     \u001b[38;5;28mprint\u001b[39m(\u001b[38;5;124m'\u001b[39m\u001b[38;5;124mwaiting for \u001b[39m\u001b[38;5;124m'\u001b[39m, name)\n\u001b[1;32m--> 216\u001b[0m     \u001b[38;5;28;43mself\u001b[39;49m\u001b[38;5;241;43m.\u001b[39;49m\u001b[43moutputs\u001b[49m\u001b[43m[\u001b[49m\u001b[43mname\u001b[49m\u001b[43m]\u001b[49m\u001b[38;5;241;43m.\u001b[39;49m\u001b[43mtask\u001b[49m\u001b[38;5;241;43m.\u001b[39;49m\u001b[43mwait_until_done\u001b[49m\u001b[43m(\u001b[49m\u001b[43mtimeout\u001b[49m\u001b[38;5;241;43m=\u001b[39;49m\u001b[43mtimeout\u001b[49m\u001b[43m)\u001b[49m\n\u001b[0;32m    218\u001b[0m \u001b[38;5;66;03m# Read the data from the input sources\u001b[39;00m\n\u001b[0;32m    219\u001b[0m \u001b[38;5;28;01mfor\u001b[39;00m name \u001b[38;5;129;01min\u001b[39;00m \u001b[38;5;28mself\u001b[39m\u001b[38;5;241m.\u001b[39minputs:\n",
      "File \u001b[1;32mc:\\Users\\Fu Lab NV PC\\anaconda3\\envs\\qdldiamond\\lib\\site-packages\\nidaqmx\\task\\_task.py:1061\u001b[0m, in \u001b[0;36mTask.wait_until_done\u001b[1;34m(self, timeout)\u001b[0m\n\u001b[0;32m   1045\u001b[0m \u001b[38;5;28;01mdef\u001b[39;00m\u001b[38;5;250m \u001b[39m\u001b[38;5;21mwait_until_done\u001b[39m(\u001b[38;5;28mself\u001b[39m, timeout\u001b[38;5;241m=\u001b[39m\u001b[38;5;241m10.0\u001b[39m):\n\u001b[0;32m   1046\u001b[0m \u001b[38;5;250m    \u001b[39m\u001b[38;5;124;03m\"\"\"\u001b[39;00m\n\u001b[0;32m   1047\u001b[0m \u001b[38;5;124;03m    Waits for the measurement or generation to complete.\u001b[39;00m\n\u001b[0;32m   1048\u001b[0m \n\u001b[1;32m   (...)\u001b[0m\n\u001b[0;32m   1059\u001b[0m \u001b[38;5;124;03m            an error if the measurement or generation is not done.\u001b[39;00m\n\u001b[0;32m   1060\u001b[0m \u001b[38;5;124;03m    \"\"\"\u001b[39;00m\n\u001b[1;32m-> 1061\u001b[0m     \u001b[38;5;28;43mself\u001b[39;49m\u001b[38;5;241;43m.\u001b[39;49m\u001b[43m_interpreter\u001b[49m\u001b[38;5;241;43m.\u001b[39;49m\u001b[43mwait_until_task_done\u001b[49m\u001b[43m(\u001b[49m\u001b[38;5;28;43mself\u001b[39;49m\u001b[38;5;241;43m.\u001b[39;49m\u001b[43m_handle\u001b[49m\u001b[43m,\u001b[49m\u001b[43m \u001b[49m\u001b[43mtimeout\u001b[49m\u001b[43m)\u001b[49m\n",
      "File \u001b[1;32mc:\\Users\\Fu Lab NV PC\\anaconda3\\envs\\qdldiamond\\lib\\site-packages\\nidaqmx\\_library_interpreter.py:5914\u001b[0m, in \u001b[0;36mLibraryInterpreter.wait_until_task_done\u001b[1;34m(self, task, time_to_wait)\u001b[0m\n\u001b[0;32m   5909\u001b[0m             cfunc\u001b[38;5;241m.\u001b[39margtypes \u001b[38;5;241m=\u001b[39m [\n\u001b[0;32m   5910\u001b[0m                 lib_importer\u001b[38;5;241m.\u001b[39mtask_handle, ctypes\u001b[38;5;241m.\u001b[39mc_double]\n\u001b[0;32m   5912\u001b[0m error_code \u001b[38;5;241m=\u001b[39m cfunc(\n\u001b[0;32m   5913\u001b[0m     task, time_to_wait)\n\u001b[1;32m-> 5914\u001b[0m \u001b[38;5;28;43mself\u001b[39;49m\u001b[38;5;241;43m.\u001b[39;49m\u001b[43mcheck_for_error\u001b[49m\u001b[43m(\u001b[49m\u001b[43merror_code\u001b[49m\u001b[43m)\u001b[49m\n",
      "File \u001b[1;32mc:\\Users\\Fu Lab NV PC\\anaconda3\\envs\\qdldiamond\\lib\\site-packages\\nidaqmx\\_library_interpreter.py:6412\u001b[0m, in \u001b[0;36mLibraryInterpreter.check_for_error\u001b[1;34m(self, error_code, samps_per_chan_written, samps_per_chan_read)\u001b[0m\n\u001b[0;32m   6410\u001b[0m         \u001b[38;5;28;01mraise\u001b[39;00m DaqWriteError(extended_error_info, error_code, samps_per_chan_written)\n\u001b[0;32m   6411\u001b[0m     \u001b[38;5;28;01melse\u001b[39;00m:\n\u001b[1;32m-> 6412\u001b[0m         \u001b[38;5;28;01mraise\u001b[39;00m DaqError(extended_error_info, error_code)\n\u001b[0;32m   6414\u001b[0m \u001b[38;5;28;01melif\u001b[39;00m error_code \u001b[38;5;241m>\u001b[39m \u001b[38;5;241m0\u001b[39m:\n\u001b[0;32m   6415\u001b[0m     error_string \u001b[38;5;241m=\u001b[39m \u001b[38;5;28mself\u001b[39m\u001b[38;5;241m.\u001b[39mget_error_string(error_code)\n",
      "\u001b[1;31mDaqError\u001b[0m: Wait Until Done did not indicate that the task was done within the specified timeout.\nIncrease the timeout, check the program, and make sure connections for external timing and triggering are in place.\nTask Name: _unnamedTask<6>\n\nStatus Code: -200560"
     ]
    }
   ],
   "source": [
    "data = controller._run_sequence(\n",
    "    process_method=controller.process_data, \n",
    "    process_kwargs={'instructions': process_instructions})"
   ]
  },
  {
   "cell_type": "code",
   "execution_count": 7,
   "id": "e3622402",
   "metadata": {},
   "outputs": [
    {
     "data": {
      "text/plain": [
       "{'inputs': {'photodiode': <qdlutils.hardware.nidaq.synchronous.nidaqsequencerinput.NidaqSequencerAIVoltage at 0x1c9690af220>,\n",
       "  'counter': <qdlutils.hardware.nidaq.synchronous.nidaqsequencerinput.NidaqSequencerCIEdge at 0x1c9690af640>},\n",
       " 'outputs': {'scan_laser': <qdlutils.hardware.nidaq.synchronous.nidaqsequenceroutput.NidaqSequencerAOVoltage at 0x1c9690af4c0>,\n",
       "  'repump_laser': <qdlutils.hardware.nidaq.synchronous.nidaqsequenceroutput.NidaqSequencerAOVoltage at 0x1c9690af040>},\n",
       " 'clock_device': 'Dev1',\n",
       " 'clock_channel': 'port0',\n",
       " 'repump_sequencer': <qdlutils.hardware.nidaq.synchronous.nidaqsequencer.NidaqSequencer at 0x1c9690af9d0>,\n",
       " 'upscan_sequencer': <qdlutils.hardware.nidaq.synchronous.nidaqsequencer.NidaqSequencer at 0x1c9755aae20>,\n",
       " 'downscan_sequencer': <qdlutils.hardware.nidaq.synchronous.nidaqsequencer.NidaqSequencer at 0x1c9690afd60>,\n",
       " 'sequence_settings': {'min': -3,\n",
       "  'max': 5,\n",
       "  'n_pixels_up': 200,\n",
       "  'n_pixels_down': 10,\n",
       "  'n_subpixels': 1,\n",
       "  'n_subpixels_up': 200,\n",
       "  'n_subpixels_down': 10,\n",
       "  'time_up': 10,\n",
       "  'time_down': 2,\n",
       "  'time_repump': 0},\n",
       " 'sample_rate_repump': 1000,\n",
       " 'sample_rate_upscan': 20.0,\n",
       " 'sample_rate_downscan': 5.0,\n",
       " 'output_data_repump': {'scan_laser': array([], dtype=float64),\n",
       "  'repump_laser': array([], dtype=float64)},\n",
       " 'output_data_upscan': {'scan_laser': array([-3.  , -2.96, -2.92, -2.88, -2.84, -2.8 , -2.76, -2.72, -2.68,\n",
       "         -2.64, -2.6 , -2.56, -2.52, -2.48, -2.44, -2.4 , -2.36, -2.32,\n",
       "         -2.28, -2.24, -2.2 , -2.16, -2.12, -2.08, -2.04, -2.  , -1.96,\n",
       "         -1.92, -1.88, -1.84, -1.8 , -1.76, -1.72, -1.68, -1.64, -1.6 ,\n",
       "         -1.56, -1.52, -1.48, -1.44, -1.4 , -1.36, -1.32, -1.28, -1.24,\n",
       "         -1.2 , -1.16, -1.12, -1.08, -1.04, -1.  , -0.96, -0.92, -0.88,\n",
       "         -0.84, -0.8 , -0.76, -0.72, -0.68, -0.64, -0.6 , -0.56, -0.52,\n",
       "         -0.48, -0.44, -0.4 , -0.36, -0.32, -0.28, -0.24, -0.2 , -0.16,\n",
       "         -0.12, -0.08, -0.04,  0.  ,  0.04,  0.08,  0.12,  0.16,  0.2 ,\n",
       "          0.24,  0.28,  0.32,  0.36,  0.4 ,  0.44,  0.48,  0.52,  0.56,\n",
       "          0.6 ,  0.64,  0.68,  0.72,  0.76,  0.8 ,  0.84,  0.88,  0.92,\n",
       "          0.96,  1.  ,  1.04,  1.08,  1.12,  1.16,  1.2 ,  1.24,  1.28,\n",
       "          1.32,  1.36,  1.4 ,  1.44,  1.48,  1.52,  1.56,  1.6 ,  1.64,\n",
       "          1.68,  1.72,  1.76,  1.8 ,  1.84,  1.88,  1.92,  1.96,  2.  ,\n",
       "          2.04,  2.08,  2.12,  2.16,  2.2 ,  2.24,  2.28,  2.32,  2.36,\n",
       "          2.4 ,  2.44,  2.48,  2.52,  2.56,  2.6 ,  2.64,  2.68,  2.72,\n",
       "          2.76,  2.8 ,  2.84,  2.88,  2.92,  2.96,  3.  ,  3.04,  3.08,\n",
       "          3.12,  3.16,  3.2 ,  3.24,  3.28,  3.32,  3.36,  3.4 ,  3.44,\n",
       "          3.48,  3.52,  3.56,  3.6 ,  3.64,  3.68,  3.72,  3.76,  3.8 ,\n",
       "          3.84,  3.88,  3.92,  3.96,  4.  ,  4.04,  4.08,  4.12,  4.16,\n",
       "          4.2 ,  4.24,  4.28,  4.32,  4.36,  4.4 ,  4.44,  4.48,  4.52,\n",
       "          4.56,  4.6 ,  4.64,  4.68,  4.72,  4.76,  4.8 ,  4.84,  4.88,\n",
       "          4.92,  4.96]),\n",
       "  'repump_laser': array([0., 0., 0., 0., 0., 0., 0., 0., 0., 0., 0., 0., 0., 0., 0., 0., 0.,\n",
       "         0., 0., 0., 0., 0., 0., 0., 0., 0., 0., 0., 0., 0., 0., 0., 0., 0.,\n",
       "         0., 0., 0., 0., 0., 0., 0., 0., 0., 0., 0., 0., 0., 0., 0., 0., 0.,\n",
       "         0., 0., 0., 0., 0., 0., 0., 0., 0., 0., 0., 0., 0., 0., 0., 0., 0.,\n",
       "         0., 0., 0., 0., 0., 0., 0., 0., 0., 0., 0., 0., 0., 0., 0., 0., 0.,\n",
       "         0., 0., 0., 0., 0., 0., 0., 0., 0., 0., 0., 0., 0., 0., 0., 0., 0.,\n",
       "         0., 0., 0., 0., 0., 0., 0., 0., 0., 0., 0., 0., 0., 0., 0., 0., 0.,\n",
       "         0., 0., 0., 0., 0., 0., 0., 0., 0., 0., 0., 0., 0., 0., 0., 0., 0.,\n",
       "         0., 0., 0., 0., 0., 0., 0., 0., 0., 0., 0., 0., 0., 0., 0., 0., 0.,\n",
       "         0., 0., 0., 0., 0., 0., 0., 0., 0., 0., 0., 0., 0., 0., 0., 0., 0.,\n",
       "         0., 0., 0., 0., 0., 0., 0., 0., 0., 0., 0., 0., 0., 0., 0., 0., 0.,\n",
       "         0., 0., 0., 0., 0., 0., 0., 0., 0., 0., 0., 0., 0.])},\n",
       " 'output_data_downscan': {'scan_laser': array([ 5. ,  4.2,  3.4,  2.6,  1.8,  1. ,  0.2, -0.6, -1.4, -2.2]),\n",
       "  'repump_laser': array([0., 0., 0., 0., 0., 0., 0., 0., 0., 0.])},\n",
       " 'input_samples_repump': {'photodiode': 0, 'counter': 0},\n",
       " 'input_samples_upscan': {'photodiode': 200, 'counter': 200},\n",
       " 'input_samples_downscan': {'photodiode': 10, 'counter': 10},\n",
       " 'readout_delays': {'photodiode': 0, 'counter': 0},\n",
       " 'soft_start': {'scan_laser': True, 'repump_laser': True},\n",
       " 'timeout_repump': 1,\n",
       " 'timeout_upscan': 11,\n",
       " 'timeout_downscan': 3,\n",
       " 'busy': False,\n",
       " 'stop': False,\n",
       " 'scan_laser_id': 'scan_laser',\n",
       " 'repump_laser_id': 'repump_laser',\n",
       " 'counter_id': 'counter',\n",
       " 'repump_laser_setpoints': {'on': 1, 'off': 0},\n",
       " 'process_instructions': {},\n",
       " 'min': -3,\n",
       " 'max': 5,\n",
       " 'n_pixels_up': 200,\n",
       " 'n_pixels_down': 10,\n",
       " 'n_subpixels': 1,\n",
       " 'n_subpixels_up': 200,\n",
       " 'n_subpixels_down': 10,\n",
       " 'time_up': 10,\n",
       " 'time_down': 2,\n",
       " 'time_repump': 0,\n",
       " 'n_samples_repump': 0,\n",
       " 'n_samples_upscan': 200,\n",
       " 'n_samples_downscan': 10,\n",
       " 'n_samples_scan': 210,\n",
       " 'n_samples_total': 210}"
      ]
     },
     "execution_count": 7,
     "metadata": {},
     "output_type": "execute_result"
    }
   ],
   "source": [
    "controller.__dict__"
   ]
  },
  {
   "cell_type": "code",
   "execution_count": null,
   "id": "31331d50",
   "metadata": {},
   "outputs": [],
   "source": []
  }
 ],
 "metadata": {
  "kernelspec": {
   "display_name": "qdldiamond",
   "language": "python",
   "name": "python3"
  },
  "language_info": {
   "codemirror_mode": {
    "name": "ipython",
    "version": 3
   },
   "file_extension": ".py",
   "mimetype": "text/x-python",
   "name": "python",
   "nbconvert_exporter": "python",
   "pygments_lexer": "ipython3",
   "version": "3.9.21"
  }
 },
 "nbformat": 4,
 "nbformat_minor": 5
}
